{
 "cells": [
  {
   "cell_type": "code",
   "execution_count": null,
   "id": "f56f2158",
   "metadata": {},
   "outputs": [],
   "source": [
    "#importing libraries \n",
    "\n",
    "import pandas as pd\n",
    "import numpy as np\n",
    "import seaborn as snb\n",
    "import matplotlib.pyplot as plt\n",
    "import plotly.express as px\n",
    "import plotly.graph_objects as go\n",
    "\n"
   ]
  },
  {
   "cell_type": "code",
   "execution_count": null,
   "id": "e01d5158",
   "metadata": {},
   "outputs": [],
   "source": [
    "data = pd.read_csv(\"D:\\harshita\\project\\project 2\\world_population.csv\")\n",
    "data.head(6)"
   ]
  },
  {
   "cell_type": "code",
   "execution_count": null,
   "id": "58367c71",
   "metadata": {},
   "outputs": [],
   "source": [
    "data.shape"
   ]
  },
  {
   "cell_type": "code",
   "execution_count": null,
   "id": "04aa3d36",
   "metadata": {},
   "outputs": [],
   "source": [
    "data.info()"
   ]
  },
  {
   "cell_type": "code",
   "execution_count": null,
   "id": "2aad2200",
   "metadata": {},
   "outputs": [],
   "source": [
    "data.isnull().sum()"
   ]
  },
  {
   "cell_type": "code",
   "execution_count": null,
   "id": "00ee6d50",
   "metadata": {},
   "outputs": [],
   "source": [
    "data.duplicated().sum()"
   ]
  },
  {
   "cell_type": "code",
   "execution_count": null,
   "id": "b02431d8",
   "metadata": {},
   "outputs": [],
   "source": [
    "data.describe()"
   ]
  },
  {
   "cell_type": "code",
   "execution_count": null,
   "id": "e50b17ed",
   "metadata": {},
   "outputs": [],
   "source": [
    "data.columns"
   ]
  },
  {
   "cell_type": "markdown",
   "id": "fb983b24",
   "metadata": {},
   "source": [
    "# Data Cleaning"
   ]
  },
  {
   "cell_type": "code",
   "execution_count": null,
   "id": "a385f109",
   "metadata": {},
   "outputs": [],
   "source": [
    "# dropping unnecessary coloumn and renaming columns\n",
    "\n",
    "#data.drop('CCA3',axis = 1,inplace = True)\n",
    "\n",
    "data.rename({'Country/Territory': 'Country',\n",
    "            '2022 Population': '2022',\n",
    "            '2020 Population': '2020',\n",
    "            '2015 Population': \"2015\",\n",
    "            '2010 Population': '2010',\n",
    "            '2000 Population': '2000',\n",
    "            '1990 Population': '1990',\n",
    "            '1980 Population': '1980',\n",
    "            '1970 Population': '1970'},axis=1,inplace = True)\n",
    "data.tail(5)"
   ]
  },
  {
   "cell_type": "markdown",
   "id": "2ce303f1",
   "metadata": {},
   "source": [
    "# Population Growth from year 1970 to year 2022\n"
   ]
  },
  {
   "cell_type": "code",
   "execution_count": null,
   "id": "38d7bdf9",
   "metadata": {},
   "outputs": [],
   "source": [
    "plt.subplots(figsize=(10,5))\n",
    "trend = data.iloc[:,4:12].sum().sort_values(ascending=True)\n",
    "\n",
    "\n",
    "snb.lineplot(x=trend.index, y=trend.values, marker=\"o\")\n",
    "plt.xticks(rotation=20)\n",
    "plt.ylabel(\"Population\")\n",
    "plt.title(\"World Population Trend (1970-2022)\")\n",
    "plt.show()"
   ]
  },
  {
   "cell_type": "code",
   "execution_count": null,
   "id": "bbc43f24",
   "metadata": {},
   "outputs": [],
   "source": [
    "top5 = data[[\"Country\",\"2022\"]].sort_values(by =\"2022\",ascending= False).head(5)\n",
    "top5\n",
    "\n",
    "snb.barplot(data = top5,x = \"Country\",y = \"2022\")\n",
    "plt.xlabel(\"Countries\")\n",
    "plt.ylabel(\"Population\")\n",
    "plt.title(\"5 Populated Countries in the World\")\n",
    "plt.show()"
   ]
  },
  {
   "cell_type": "markdown",
   "id": "355100ac",
   "metadata": {},
   "source": [
    "# Population by continents "
   ]
  },
  {
   "cell_type": "code",
   "execution_count": null,
   "id": "feffea55",
   "metadata": {},
   "outputs": [],
   "source": [
    "df_continent = data.groupby(by='Continent').sum()\n",
    "df_continent"
   ]
  },
  {
   "cell_type": "code",
   "execution_count": null,
   "id": "53eba9f1",
   "metadata": {},
   "outputs": [],
   "source": [
    "pie_data = df_continent['2022']\n",
    "\n",
    "pie_data.plot(kind='pie',figsize = (10,5),shadow= False,autopct=\"%1.f%%\")\n",
    "\n",
    "plt.title(\"Population by Continents\")\n",
    "\n",
    "plt.axis(\"equal\")\n",
    "\n",
    "plt.show()"
   ]
  },
  {
   "cell_type": "markdown",
   "id": "751c3f3a",
   "metadata": {},
   "source": [
    "# Analyzing Countries by Continents "
   ]
  },
  {
   "cell_type": "code",
   "execution_count": null,
   "id": "16a0cd3a",
   "metadata": {},
   "outputs": [],
   "source": [
    "asian= data.loc[data['Continent']=='Asia'].sort_values(by=['2022'],ascending =False,ignore_index= True)\n",
    "\n",
    "europian= data.loc[data[\"Continent\"]==\"Europe\"].sort_values(by=['2022'],ascending=False,ignore_index= True)\n",
    "\n",
    "african = data.loc[data[\"Continent\"]==\"Africa\"].sort_values(by= ['2022'],ascending = False,ignore_index= True)\n",
    "\n",
    "South_American= data.loc[data[\"Continent\"]==\"South America\"].sort_values(by= ['2022'],ascending = False,ignore_index= True)\n",
    "\n",
    "Oceanian= data.loc[data[\"Continent\"]==\"Oceania\"].sort_values(by= ['2022'],ascending = False,ignore_index= True)\n",
    "\n",
    "North_American = data.loc[data[\"Continent\"]==\"North America\"].sort_values(by= ['2022'],ascending = False,ignore_index= True)\n",
    "\n"
   ]
  },
  {
   "cell_type": "code",
   "execution_count": null,
   "id": "6359b77b",
   "metadata": {},
   "outputs": [],
   "source": [
    "top5_asia = asian[[\"Country\",\"2022\"]].sort_values(by=\"2022\",ascending = False).head(5)\n",
    "top5_asia"
   ]
  },
  {
   "cell_type": "code",
   "execution_count": null,
   "id": "725c2c9d",
   "metadata": {},
   "outputs": [],
   "source": [
    "snb.barplot(data = top5_asia,x=\"Country\",y = \"2022\")\n",
    "plt.xlabel(\"Countries\",fontsize =13)\n",
    "plt.ylabel(\"population\",fontsize = 13)\n",
    "\n",
    "plt.title(\" Top 5 populated Asian Countries\")\n",
    "plt.show()"
   ]
  },
  {
   "cell_type": "code",
   "execution_count": null,
   "id": "2b544fee",
   "metadata": {},
   "outputs": [],
   "source": [
    "top5_european= europian[['Country','2022']].sort_values(by= '2022',ascending= False).head(5)\n",
    "\n",
    "top5_european"
   ]
  },
  {
   "cell_type": "code",
   "execution_count": null,
   "id": "04832291",
   "metadata": {},
   "outputs": [],
   "source": [
    "snb.barplot(data = top5_european,x = \"Country\",y = \"2022\")\n",
    "plt.xlabel(\"Countries\",fontsize = 13)\n",
    "plt.ylabel(\"population\",fontsize = 13)\n",
    "plt.title(\"top 5 Populated European Countries \")\n",
    "plt.show()"
   ]
  },
  {
   "cell_type": "code",
   "execution_count": null,
   "id": "30c7b77c",
   "metadata": {},
   "outputs": [],
   "source": [
    "top5_african = african[[\"Country\",\"2022\"]].sort_values(by = \"2022\",ascending = False).head(5)\n",
    "top5_african"
   ]
  },
  {
   "cell_type": "code",
   "execution_count": null,
   "id": "a146c0a6",
   "metadata": {},
   "outputs": [],
   "source": [
    "figsize=(5,5)\n",
    "snb.barplot(data = top5_african,x = \"Country\",y = \"2022\")\n",
    "plt.xlabel(\"Countries\",fontsize= 13)\n",
    "plt.ylabel(\"population\",fontsize= 13)\n",
    "plt.title(\"Top 5 Populated African Countries \")\n",
    "plt.show()"
   ]
  },
  {
   "cell_type": "code",
   "execution_count": null,
   "id": "a4317bcb",
   "metadata": {},
   "outputs": [],
   "source": [
    "top5_s_america= South_American[[\"Country\",\"2022\"]].sort_values(by= \"2022\",ascending = False).head(5)\n",
    "\n",
    "\n",
    "snb.barplot(data = top5_s_america,x = \"Country\",y = \"2022\")\n",
    "plt.xlabel(\"Countries\",fontsize= 13)\n",
    "plt.ylabel(\"Population\",fontsize= 13)\n",
    "plt.title(\"Top 5 Populated South American Countries\")\n",
    "plt.show()"
   ]
  },
  {
   "cell_type": "code",
   "execution_count": null,
   "id": "868f0990",
   "metadata": {},
   "outputs": [],
   "source": [
    "top5_Oceanian= Oceanian[[\"Country\",\"2022\"]].sort_values(by=\"2022\",ascending = False).head(5)\n",
    "snb.barplot(data = top5_Oceanian,x = \"Country\",y = \"2022\")\n",
    "plt.xlabel(\"Countries\",fontsize=13)\n",
    "plt.xticks(rotation = 20)\n",
    "plt.ylabel(\"Population\",fontsize= 13)\n",
    "plt.title(\"Top 5 Populated Oceanian Countries\")\n",
    "plt.show()"
   ]
  },
  {
   "cell_type": "code",
   "execution_count": null,
   "id": "fd3ef359",
   "metadata": {},
   "outputs": [],
   "source": [
    "top5_n_america= North_American[[\"Country\",\"2022\"]].sort_values(by=\"2022\",ascending = False).head(5)\n",
    "\n",
    "top5_n_america"
   ]
  },
  {
   "cell_type": "code",
   "execution_count": null,
   "id": "54f6ad4c",
   "metadata": {},
   "outputs": [],
   "source": [
    "snb.barplot(data = top5_n_america,x = \"Country\", y = \"2022\")\n",
    "plt.xlabel(\"Countries\",fontsize=13)\n",
    "plt.ylabel(\"Population\",fontsize= 13)\n",
    "plt.title(\"Top 5 Populated North American Countries\")\n",
    "plt.show()"
   ]
  },
  {
   "cell_type": "markdown",
   "id": "cd99d22e",
   "metadata": {},
   "source": [
    "# Relationship ( Area,Density,Growth rate,Percentages)"
   ]
  },
  {
   "cell_type": "code",
   "execution_count": null,
   "id": "f50435c3",
   "metadata": {},
   "outputs": [],
   "source": [
    "relation= data[[\"Area (km²)\", \"Density (per km²)\", \n",
    "                     \"Growth Rate\", \"World Population Percentage\"]].corr()\n",
    "snb.heatmap(data = relation ,annot = True)\n",
    "plt.tight_layout()\n",
    "plt.show()"
   ]
  },
  {
   "cell_type": "markdown",
   "id": "d03ab919",
   "metadata": {},
   "source": [
    "# Choropleth Map"
   ]
  },
  {
   "cell_type": "code",
   "execution_count": null,
   "id": "1a23fa57",
   "metadata": {},
   "outputs": [],
   "source": [
    "fig = px.choropleth(data,locations = \"Country\",locationmode = \"country names\",title = \"Growth Rate\",color = \"Growth Rate\",color_continuous_scale = \"Viridis\")\n",
    "fig.show()"
   ]
  },
  {
   "cell_type": "code",
   "execution_count": null,
   "id": "d2402fcd",
   "metadata": {},
   "outputs": [],
   "source": []
  },
  {
   "cell_type": "code",
   "execution_count": null,
   "id": "069460bf",
   "metadata": {},
   "outputs": [],
   "source": []
  },
  {
   "cell_type": "code",
   "execution_count": null,
   "id": "6be7704a",
   "metadata": {},
   "outputs": [],
   "source": []
  },
  {
   "cell_type": "code",
   "execution_count": null,
   "id": "ccf3810f",
   "metadata": {},
   "outputs": [],
   "source": []
  }
 ],
 "metadata": {
  "kernelspec": {
   "display_name": "Python 3 (ipykernel)",
   "language": "python",
   "name": "python3"
  },
  "language_info": {
   "codemirror_mode": {
    "name": "ipython",
    "version": 3
   },
   "file_extension": ".py",
   "mimetype": "text/x-python",
   "name": "python",
   "nbconvert_exporter": "python",
   "pygments_lexer": "ipython3",
   "version": "3.9.13"
  }
 },
 "nbformat": 4,
 "nbformat_minor": 5
}
